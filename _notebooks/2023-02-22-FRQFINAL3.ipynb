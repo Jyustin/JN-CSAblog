{
 "cells": [
  {
   "cell_type": "markdown",
   "metadata": {},
   "source": [
    "---\n",
    "toc: true\n",
    "comments: true\n",
    "layout: notebook\n",
    "title: APCSA FRQ QUESTION 3\n",
    "description: java skill check\n",
    "courses: { compsci: {row: 0} }\n",
    "type: APCSA\n",
    "---"
   ]
  },
  {
   "cell_type": "markdown",
   "metadata": {},
   "source": [
    "# QUESTION 3\n",
    "\n",
    "A two-dimensional array of integers in which most elements are zero is called a sparse array. Because most elements have a value of zero, memory can be saved by storing only the non-zero values along with their row and column indexes. The following complete SparseArrayEntry class is used to represent non-zero elements in a sparse array. A SparseArrayEntry object cannot be modified after it has been constructed."
   ]
  },
  {
   "cell_type": "code",
   "execution_count": null,
   "metadata": {
    "vscode": {
     "languageId": "java"
    }
   },
   "outputs": [],
   "source": [
    "public class SparseArrayEntry\n",
    "{\n",
    " /** The row index and column index for this entry in the sparse array */\n",
    " private int row;\n",
    " private int col;\n",
    " /** The value of this entry in the sparse array */\n",
    " private int value;\n",
    " /** Constructs a SparseArrayEntry object that represents a sparse array element\n",
    "* with row index r and column index c, containing value v.\n",
    " */\n",
    " public SparseArrayEntry(int r, int c, int v)\n",
    " {\n",
    " row = r;\n",
    " col = c;\n",
    " value = v;\n",
    " }\n",
    " /** Returns the row index of this sparse array element. */\n",
    " public int getRow()\n",
    " { return row; }\n",
    " /** Returns the column index of this sparse array element. */\n",
    " public int getCol()\n",
    " { return col; }\n",
    " /** Returns the value of this sparse array element. */\n",
    " public int getValue()\n",
    " { return value; }\n",
    "} "
   ]
  },
  {
   "cell_type": "markdown",
   "metadata": {},
   "source": [
    " The SparseArray class represents a sparse array. It contains a list of SparseArrayEntry objects, each\n",
    "of which represents one of the non-zero elements in the array. The entries representing the non-zero elements are\n",
    "stored in the list in no particular order. Each non-zero element is represented by exactly one entry in the list."
   ]
  },
  {
   "cell_type": "code",
   "execution_count": null,
   "metadata": {
    "vscode": {
     "languageId": "java"
    }
   },
   "outputs": [],
   "source": [
    "public class SparseArray\n",
    "{\n",
    " /** The number of rows and columns in the sparse array. */\n",
    " private int numRows;\n",
    " private int numCols;\n",
    " /** The list of entries representing the non-zero elements of the sparse array. Entries are stored in the\n",
    "* list in no particular order. Each non-zero element is represented by exactly one entry in the list.\n",
    " */\n",
    " private List<SparseArrayEntry> entries;\n",
    " /** Constructs an empty SparseArray. */\n",
    " public SparseArray()\n",
    " { entries = new ArrayList<SparseArrayEntry>(); }\n",
    " /** Returns the number of rows in the sparse array. */\n",
    " public int getNumRows()\n",
    " { return numRows; }\n",
    " /** Returns the number of columns in the sparse array. */\n",
    " public int getNumCols()\n",
    " { return numCols; }\n",
    " /** Returns the value of the element at row index row and column index col in the sparse array.\n",
    "* Precondition: 0  row < getNumRows()\n",
    " * 0  col < getNumCols()\n",
    " */\n",
    " public int getValueAt(int row, int col)\n",
    " { /* to be implemented in part (a) */ }\n",
    " /** Removes the column col from the sparse array.\n",
    "* Precondition: 0  col < getNumCols()\n",
    " */\n",
    " public void removeColumn(int col)\n",
    " { /* to be implemented in part (b) */ }\n",
    " // There may be instance variables, constructors, and methods that are not shown.\n",
    "} "
   ]
  },
  {
   "cell_type": "markdown",
   "metadata": {},
   "source": [
    "(a) Write the SparseArray method getValueAt. The method returns the value of the sparse array element at a given row and column in the sparse array. If the list entries contains an entry with the specified row and column, the value associated with the entry is returned. If there is no entry in entries corresponding to the specified row and column, 0 is returned.\n",
    "In the example above, the call sparse.getValueAt(3, 1) would return -9, and sparse.getValueAt(3, 3) would return 0.\n",
    "\n",
    "Complete method getValueAt below.\n",
    "\n",
    "# my ans"
   ]
  },
  {
   "cell_type": "code",
   "execution_count": null,
   "metadata": {
    "vscode": {
     "languageId": "java"
    }
   },
   "outputs": [],
   "source": [
    "public int getValueAt(int row, int col)\n",
    " { \n",
    "    return entries[row][col];\n",
    "}\n",
    "\n"
   ]
  },
  {
   "cell_type": "markdown",
   "metadata": {},
   "source": [
    "(b) Write the SparseArray method removeColumn. After removing a specified column from a sparsearray:\n",
    "\n",
    "All entries in the list entries with column indexes matching col are removed from the list.\n",
    "\n",
    "All entries in the list entries with column indexes greater than col are replaced by entries with column indexes that are decremented by one (moved one column to the left).\n",
    "\n",
    "The number of columns in the sparse array is adjusted to reflect the column removed.\n",
    "\n",
    "The sample object sparse from the beginning of the question is repeated for your convenience.\n",
    "\n",
    "# my ans"
   ]
  },
  {
   "cell_type": "code",
   "execution_count": null,
   "metadata": {
    "vscode": {
     "languageId": "java"
    }
   },
   "outputs": [],
   "source": [
    " /** Removes the column col from the sparse array.\n",
    "* Precondition: 0  col < getNumCols()\n",
    " */\n",
    "public void removeColumn(int col)\n",
    "{\n",
    "    for (int i = 0; i < numRows; i++){\n",
    "        remove(i, col); \n",
    "    }\n",
    "    for (int i = 0; i < numRows; i++){\n",
    "    (i, col) = (i, col + 1)    \n",
    "}\n",
    "}"
   ]
  },
  {
   "cell_type": "markdown",
   "metadata": {},
   "source": [
    "# actual answer compiled into running code:"
   ]
  },
  {
   "cell_type": "code",
   "execution_count": 3,
   "metadata": {
    "vscode": {
     "languageId": "java"
    }
   },
   "outputs": [
    {
     "name": "stdout",
     "output_type": "stream",
     "text": [
      "Value at (0, 1): 5\n",
      "Value at (1, 2): 3\n",
      "Value at (2, 3): 7\n",
      "After removing column 2:\n",
      "Value at (0, 1): 5\n",
      "Value at (1, 2): 0\n",
      "Value at (2, 2): 7\n"
     ]
    }
   ],
   "source": [
    "import java.util.ArrayList;\n",
    "import java.util.List;\n",
    "\n",
    "public class SparseArrayExample {\n",
    "\n",
    "    public static void main(String[] args) {\n",
    "        // Example run\n",
    "        SparseArray sparseArray = new SparseArray(3, 4);\n",
    "        sparseArray.setValueAt(0, 1, 5);\n",
    "        sparseArray.setValueAt(1, 2, 3);\n",
    "        sparseArray.setValueAt(2, 3, 7);\n",
    "\n",
    "        System.out.println(\"Value at (0, 1): \" + sparseArray.getValueAt(0, 1)); // Output: 5\n",
    "        System.out.println(\"Value at (1, 2): \" + sparseArray.getValueAt(1, 2)); // Output: 3\n",
    "        System.out.println(\"Value at (2, 3): \" + sparseArray.getValueAt(2, 3)); // Output: 7\n",
    "\n",
    "        sparseArray.removeColumn(2);\n",
    "\n",
    "        System.out.println(\"After removing column 2:\");\n",
    "        System.out.println(\"Value at (0, 1): \" + sparseArray.getValueAt(0, 1)); // Output: 5\n",
    "        // Column 2 is removed, so this should return 0\n",
    "        System.out.println(\"Value at (1, 2): \" + sparseArray.getValueAt(1, 2)); // Output: 0\n",
    "        System.out.println(\"Value at (2, 2): \" + sparseArray.getValueAt(2, 2)); // Output: 7\n",
    "    }\n",
    "}\n",
    "\n",
    "class SparseArrayEntry {\n",
    "    private int row;\n",
    "    private int col;\n",
    "    private int value;\n",
    "\n",
    "    public SparseArrayEntry(int r, int c, int v) {\n",
    "        row = r;\n",
    "        col = c;\n",
    "        value = v;\n",
    "    }\n",
    "\n",
    "    public int getRow() {\n",
    "        return row;\n",
    "    }\n",
    "\n",
    "    public int getCol() {\n",
    "        return col;\n",
    "    }\n",
    "\n",
    "    public int getValue() {\n",
    "        return value;\n",
    "    }\n",
    "}\n",
    "\n",
    "class SparseArray {\n",
    "    private int numRows;\n",
    "    private int numCols;\n",
    "    private List<SparseArrayEntry> entries;\n",
    "\n",
    "    public SparseArray(int rows, int cols) {\n",
    "        numRows = rows;\n",
    "        numCols = cols;\n",
    "        entries = new ArrayList<>();\n",
    "    }\n",
    "\n",
    "    public int getNumRows() {\n",
    "        return numRows;\n",
    "    }\n",
    "\n",
    "    public int getNumCols() {\n",
    "        return numCols;\n",
    "    }\n",
    "\n",
    "    public int getValueAt(int row, int col) {\n",
    "        for (SparseArrayEntry e : entries) {\n",
    "            if (e.getRow() == row && e.getCol() == col) {\n",
    "                return e.getValue();\n",
    "            }\n",
    "        }\n",
    "        return 0;\n",
    "    }\n",
    "\n",
    "    public void setValueAt(int row, int col, int value) {\n",
    "        entries.add(new SparseArrayEntry(row, col, value));\n",
    "    }\n",
    "\n",
    "    public void removeColumn(int col) {\n",
    "        int i = 0;\n",
    "        while (i < entries.size()) {\n",
    "            SparseArrayEntry e = entries.get(i);\n",
    "            if (e.getCol() == col) {\n",
    "                entries.remove(i);\n",
    "            } else if (e.getCol() > col) {\n",
    "                entries.set(i, new SparseArrayEntry(e.getRow(), e.getCol() - 1, e.getValue()));\n",
    "                i++;\n",
    "            } else {\n",
    "                i++;\n",
    "            }\n",
    "        }\n",
    "        numCols--;\n",
    "    }\n",
    "}\n",
    "\n",
    "SparseArrayExample.main(null);"
   ]
  },
  {
   "cell_type": "markdown",
   "metadata": {},
   "source": [
    "# reflection\n",
    "\n",
    "ok I had no idea what to make of this tbh but I will try.\n",
    "\n",
    "I know that this frq was testing knowledge of 2d array traversal, but after looking at the answer and doing some looking around I think this is more testing\n",
    "knowledge of objects in java. "
   ]
  }
 ],
 "metadata": {
  "kernelspec": {
   "display_name": "Java",
   "language": "java",
   "name": "java"
  },
  "language_info": {
   "codemirror_mode": "java",
   "file_extension": ".jshell",
   "mimetype": "text/x-java-source",
   "name": "Java",
   "pygments_lexer": "java",
   "version": "20.0.2+9"
  }
 },
 "nbformat": 4,
 "nbformat_minor": 2
}
