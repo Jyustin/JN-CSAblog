{
 "cells": [
  {
   "cell_type": "markdown",
   "metadata": {},
   "source": [
    "# what to know\n",
    "\n",
    "for more info on classes go here: [csawesome_resource](https://runestone.academy/ns/books/published/csawesome/Unit5-Writing-Classes/topic-5-1-parts-of-class.html)\n",
    "\n",
    "\n",
    "note:\n",
    "\n",
    "• Missing public qualifier on class or constructor header will not incur a penalty.\n",
    "\n",
    "remember that classes are the blueprints for making objects. When you create objects, you create new instances of that class and what you can do with those instances is determined by what methods are defined in the class.\n",
    "\n",
    "for the ap test just use your classes to store your methods if they ask you to write classes.\n",
    "\n",
    "the ap frqs will also usually provide you with the class. Its best to think of them as blueprints to store methods.\n",
    "\n",
    "Realistically the only things you need to worry about is remembering to make isntance variables and constructors if they ask to write one and to actually put everything within the class.\n",
    "\n",
    "# class structures in frqs"
   ]
  },
  {
   "cell_type": "code",
   "execution_count": null,
   "metadata": {
    "vscode": {
     "languageId": "java"
    }
   },
   "outputs": [],
   "source": [
    "public class Example \n",
    "{\n",
    "    // instance variables\n",
    "    private String var1;\n",
    "    private int var2;\n",
    "\n",
    "    // Constructor\n",
    "    public Example(String initVar1, int initVar2)\n",
    "    {\n",
    "        var1 = initVar1;\n",
    "        var2 = initVar2;\n",
    "    }\n",
    "\n",
    "    // Method to print instance variable values, again NOT \n",
    "    public void print()\n",
    "    {\n",
    "        System.out.println(\"Var1: \" + var1);\n",
    "        System.out.println(\"Var2: \" + var2);\n",
    "    }\n",
    "\n",
    "    // Main method for testing, NOT NEEDED FOR TEST USUALLY\n",
    "    public static void main(String[] args)\n",
    "    {\n",
    "        // Creating instances of Example class\n",
    "        Example e1 = new Example(\"Value1\", 10);\n",
    "        Example e2 = new Example(\"Value2\", 20);\n",
    "\n",
    "        // Calling print method for each instance\n",
    "        e1.print();\n",
    "        e2.print();\n",
    "    }\n",
    "}\n"
   ]
  }
 ],
 "metadata": {
  "language_info": {
   "name": "python"
  }
 },
 "nbformat": 4,
 "nbformat_minor": 2
}
