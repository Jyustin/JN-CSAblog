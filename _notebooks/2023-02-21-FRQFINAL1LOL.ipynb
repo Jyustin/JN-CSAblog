{
 "cells": [
  {
   "cell_type": "markdown",
   "metadata": {},
   "source": [
    "---\n",
    "toc: true\n",
    "comments: true\n",
    "layout: notebook\n",
    "title: APCSA FRQ QUESTION 1\n",
    "description: java skill check\n",
    "courses: { compsci: {row: 0} }\n",
    "type: APCSA\n",
    "---"
   ]
  },
  {
   "cell_type": "markdown",
   "metadata": {},
   "source": [
    "# QUESTION 1\n",
    "\n",
    "You will write three static methods, all of which are in a single enclosing class, named DiverseArray (not shown). The first method returns the sum of the values of a one-dimensional array; the second method returns an array that represents the sums of the rows of a two-dimensional array; and the third method analyzes row sums.\n",
    "\n",
    "\n",
    "(a) Write a static method arraySum that calculates and returns the sum of the entries in a specified one-dimensional array. The following example shows an array arr1 and the value returned by a call to arraySum.\n",
    "\n",
    "### my ans to A:"
   ]
  },
  {
   "cell_type": "code",
   "execution_count": null,
   "metadata": {
    "vscode": {
     "languageId": "java"
    }
   },
   "outputs": [],
   "source": [
    "// Returns the sum of the entries in the one-dimensional array arr.\n",
    "\n",
    "public static int arraySum (int [ ] arr) {\n",
    "    int sum = 0;\n",
    "    for (int i = 0; i < arr.length; i++) {\n",
    "        sum += arr[i];\n",
    "    }\n",
    "    return sum;\n",
    "}\n"
   ]
  },
  {
   "cell_type": "markdown",
   "metadata": {},
   "source": [
    "(b) Write a static method rowSums that calculates the sums of each of the rows in a given two-dimensional array and returns these sums in a one-dimensional array. The method has one parameter, a two-dimensional array arr2D of int values. The array is in row-major order: arr2D [ r ] [ c ] is the entry at row r and column c. The method returns a one-dimensional array with one entry for each row of arr2D such that each entry is the sum of the corresponding row in arr2D. As a reminder, each row of a two-dimensional array is a one-dimensional array.\n",
    "\n",
    "### my ans to B:"
   ]
  },
  {
   "cell_type": "code",
   "execution_count": null,
   "metadata": {
    "vscode": {
     "languageId": "java"
    }
   },
   "outputs": [],
   "source": [
    "// Returns a one-dimensional array in which the entry at index k is the sum of\n",
    "// the entries of row k of the two-dimensional array arr2D.\n",
    "\n",
    "public static int [] rowSums(int [a] [b] arr2D) {\n",
    "    int [] arrSum = new int [];\n",
    "    for (int j = 0; j < arr2D[].length; j++) {\n",
    "        arr2d[i] = arr2D[i][k];\n",
    "    } \n",
    "}\n",
    "return rowSums;\n",
    "    \n"
   ]
  },
  {
   "cell_type": "markdown",
   "metadata": {},
   "source": [
    "(c) A two-dimensional array is diverse if no two of its rows have entries that sum to the same value. In the following examples, the array mat1 is diverse because each row sum is different, but the array mat2 is not diverse because the first and last rows have the same sum.\n",
    "\n",
    "Write a static method isDiverse that determines whether or not a given two-dimensional array is diverse. The method has one parameter: a two-dimensional array arr2D of int values. The method should return true if all the row sums in the given array are unique; otherwise, it should return false. In the arrays shown above, the call isDiverse (mat1) returns true and the call isDiverse(mat2) returns false.\n",
    "\n",
    "Assume that arraySum and rowSums work as specified, regardless of what you wrote in parts (a) and(b). You must use rowSums appropriately to receive full credit.\n",
    "Complete method isDiverse below.\n",
    "\n",
    "### my ans to C:"
   ]
  },
  {
   "cell_type": "code",
   "execution_count": null,
   "metadata": {
    "vscode": {
     "languageId": "java"
    }
   },
   "outputs": [],
   "source": [
    "// Returns true if all rows in arr2D have different row sums;\n",
    "//false otherwise.\n",
    "\n",
    "public static boolean isDiverse(int [ ] [ ] arr2D) {\n",
    "    int \n",
    "    for (int i = 0; i < arr2D.length; i++) {\n",
    "        for (int j = 0; j < arr2D[i].length; j++) {\n",
    "        int [] newRow = rowSums[i][j]; //wtf do i do  \n",
    "    }\n",
    "    if newRow == newRow {\n",
    "        return false;\n",
    "    }\n",
    "}\n",
    "}"
   ]
  },
  {
   "cell_type": "markdown",
   "metadata": {},
   "source": [
    "# actual answer compiled into running code"
   ]
  },
  {
   "cell_type": "code",
   "execution_count": 1,
   "metadata": {
    "vscode": {
     "languageId": "java"
    }
   },
   "outputs": [
    {
     "name": "stdout",
     "output_type": "stream",
     "text": [
      "6\n",
      "15\n",
      "24\n",
      "Array is diverse: true\n"
     ]
    }
   ],
   "source": [
    "public class ArrayOperations {\n",
    "\n",
    "    // Method to calculate the sum of elements in a 1D array\n",
    "    public static int arraySum(int[] arr) {\n",
    "        int sum = 0;\n",
    "        for (int elem : arr) {\n",
    "            sum += elem;\n",
    "        }\n",
    "        System.out.println(sum);\n",
    "        return sum;\n",
    "    }\n",
    "\n",
    "    // Method to calculate the sums of rows in a 2D array\n",
    "    public static int[] rowSums(int[][] arr2D) {\n",
    "        int[] sums = new int[arr2D.length]; // Initialize an array to store row sums\n",
    "        int rowNum = 0;\n",
    "        for (int[] row : arr2D) {\n",
    "            sums[rowNum] = arraySum(row); // Calculate sum of each row and store in sums array\n",
    "            rowNum++;\n",
    "        }\n",
    "        return sums;\n",
    "\n",
    "    }\n",
    "\n",
    "    // Method to check if a 2D array is diverse\n",
    "    public static boolean isDiverse(int[][] arr2D) {\n",
    "        int[] sums = rowSums(arr2D); // Get sums of rows using rowSums method\n",
    "        for (int i = 0; i < sums.length; i++) {\n",
    "            for (int j = i + 1; j < sums.length; j++) {\n",
    "                if (sums[i] == sums[j]) { // If any two sums are equal, the array is not diverse\n",
    "                    return false;\n",
    "                }\n",
    "            }\n",
    "        }\n",
    "        return true; // If no two sums are equal, the array is diverse\n",
    "    }\n",
    "\n",
    "    public static void main(String[] args) {\n",
    "        int[][] array2D = {\n",
    "            {1, 2, 3},\n",
    "            {4, 5, 6},\n",
    "            {7, 8, 9}\n",
    "        };\n",
    "\n",
    "        System.out.println(\"Array is diverse: \" + isDiverse(array2D));\n",
    "    }\n",
    "}\n",
    "ArrayOperations.main(null);\n"
   ]
  },
  {
   "cell_type": "markdown",
   "metadata": {},
   "source": [
    "# FRQ reflection\n",
    "\n",
    "This FRQ is a Array and 2d array FRQ, as it sees if you know how to summate rows in an array and a 2d array, with the 3rd question needing both skills.\n",
    "\n",
    "Key algorithm: The key algorithms are the for loops required for traversal of arrays. Without these, you cannot solve the problem.\n",
    "\n",
    "this connects to the skill the FRQ tests, which is using traversal of arrays to find sums. \n",
    "\n"
   ]
  }
 ],
 "metadata": {
  "kernelspec": {
   "display_name": "Java",
   "language": "java",
   "name": "java"
  },
  "language_info": {
   "codemirror_mode": "java",
   "file_extension": ".jshell",
   "mimetype": "text/x-java-source",
   "name": "Java",
   "pygments_lexer": "java",
   "version": "20.0.2+9"
  }
 },
 "nbformat": 4,
 "nbformat_minor": 2
}
