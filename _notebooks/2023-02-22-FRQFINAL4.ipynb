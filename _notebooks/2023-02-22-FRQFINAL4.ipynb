{
 "cells": [
  {
   "cell_type": "markdown",
   "metadata": {},
   "source": [
    "---\n",
    "toc: true\n",
    "comments: true\n",
    "layout: notebook\n",
    "title: APCSA FRQ QUESTION 4\n",
    "description: java skill check\n",
    "courses: { compsci: {row: 0} }\n",
    "type: APCSA\n",
    "---"
   ]
  },
  {
   "cell_type": "markdown",
   "metadata": {},
   "source": [
    "# QUESTION 4\n",
    "\n",
    "(a) A number group represents a group of integers defined in some way. It could be empty, or it could contain one or more integers.\n",
    "\n",
    "Write an interface named NumberGroup that represents a group of integers. The interface should have a single contains method that determines if a given integer is in the group. For example, if group1 is of type NumberGroup, and it contains only the two numbers -5 and 3, then group1.contains(-5) would return true, and group1.contains(2) would return false.\n",
    "Write the complete NumberGroup interface. It must have exactly one method."
   ]
  },
  {
   "cell_type": "code",
   "execution_count": null,
   "metadata": {
    "vscode": {
     "languageId": "java"
    }
   },
   "outputs": [],
   "source": [
    "public class NumberGroup {\n",
    "    public int[] group = new int[];\n",
    "    public int contains(int[] groups) {\n",
    "        for (i = 0; i < groups.length; i++) {\n",
    "            if groups[i] == NumberGroup[i] {\n",
    "                return true;\n",
    "            }\n",
    "\n",
    "\n",
    "    }\n",
    "}\n",
    "}"
   ]
  },
  {
   "cell_type": "markdown",
   "metadata": {},
   "source": [
    "(b) A range represents a number group that contains all (and only) the integers between a minimum value and a maximum value, inclusive.\n",
    "Write the Range class, which is a NumberGroup. The Range class represents the group of int values that range from a given minimum value up through a given maximum value, inclusive. For example,the declaration\n",
    "\n",
    "NumberGroup range1 = new Range(-3, 2);\n",
    "\n",
    "represents the group of integer values -3, -2, -1, 0, 1, 2.\n",
    "\n",
    "Write the complete Range class. Include all necessary instance variables and methods as well as a constructor that takes two int parameters. The first parameter represents the minimum value, and the second parameter represents the maximum value of the range. You may assume that the minimum is less than or equal to the maximum."
   ]
  },
  {
   "cell_type": "code",
   "execution_count": null,
   "metadata": {
    "vscode": {
     "languageId": "java"
    }
   },
   "outputs": [],
   "source": [
    "public class Range {\n",
    "    public int start = 0;\n",
    "    public int end = 10;\n",
    "\n",
    "    public rangeGroup(int start, int end) {\n",
    "        new int[] group = new int[];\n",
    "        for(int i = start; i <= end; i++) {\n",
    "            group.add(i);\n",
    "        }\n",
    "    }\n",
    "}"
   ]
  },
  {
   "cell_type": "markdown",
   "metadata": {},
   "source": [
    "(c) The MultipleGroups class (not shown) represents a collection of NumberGroup objects and is a NumberGroup. The MultipleGroups class stores the number groups in the instance variable groupList (shown below), which is initialized in the constructor.\n",
    "\n",
    "private List<NumberGroup> groupList;\n",
    "\n",
    "Write the MultipleGroups method contains. The method takes an integer and returns true if and only if the integer is contained in one or more of the number groups in groupList.\n",
    "\n",
    "For example, suppose multiple1 has been declared as an instance of MultipleGroups and consists of the three ranges created by the calls new Range(5, 8), new Range(10, 12), and new Range(1, 6). The following table shows the results of several calls to contains.\n",
    "\n",
    "Complete method contains below\n"
   ]
  },
  {
   "cell_type": "code",
   "execution_count": null,
   "metadata": {
    "vscode": {
     "languageId": "java"
    }
   },
   "outputs": [],
   "source": [
    "public boolean contains(int num) {\n",
    "\n",
    "    int rangeMin = NumberGroup[0];\n",
    "    int rangeMax = NumberGroup[1];\n",
    "    for (int i = rangeMin; i < rangeMax(); i++) {\n",
    "        if i == num {\n",
    "            return true;\n",
    "    }\n",
    "    else {\n",
    "        return false;\n",
    "    }\n",
    "    \n",
    "    }\n",
    "}"
   ]
  },
  {
   "cell_type": "markdown",
   "metadata": {},
   "source": [
    "# actual answer compiled into running code:"
   ]
  },
  {
   "cell_type": "code",
   "execution_count": 1,
   "metadata": {
    "vscode": {
     "languageId": "java"
    }
   },
   "outputs": [],
   "source": [
    "import java.util.ArrayList;\n",
    "\n",
    "// Part (a): Define the NumberGroup interface\n",
    "public interface NumberGroup {\n",
    "    boolean contains(int num); // Method to check if a number is contained within the group\n",
    "}\n",
    "\n",
    "// Part (b): Implement the Range class that implements the NumberGroup interface\n",
    "public class Range implements NumberGroup {\n",
    "    private int min;\n",
    "    private int max;\n",
    "\n",
    "    // Constructor to initialize the range with minimum and maximum values\n",
    "    public Range(int min, int max) {\n",
    "        this.min = min;\n",
    "        this.max = max;\n",
    "    }\n",
    "\n",
    "    // Method to check if a number is within the range\n",
    "    public boolean contains(int num) {\n",
    "        return num >= min && num <= max;\n",
    "    }\n",
    "}\n",
    "\n",
    "// Part (c): Extend functionality to check if a number is contained in any group in a list of groups\n",
    "public class GroupList {\n",
    "    private ArrayList<NumberGroup> groupList; // ArrayList to store NumberGroup objects\n",
    "\n",
    "    // Constructor to initialize the groupList\n",
    "    public GroupList() {\n",
    "        groupList = new ArrayList<>();\n",
    "    }\n",
    "\n",
    "    // Method to add a NumberGroup to the groupList\n",
    "    public void addGroup(NumberGroup group) {\n",
    "        groupList.add(group);\n",
    "    }\n",
    "\n",
    "    // Method to check if a number is contained in any group within the groupList\n",
    "    public boolean contains(int num) {\n",
    "        for (NumberGroup group : groupList) { // Iterate through each group in the list\n",
    "            if (group.contains(num)) { // Check if the number is contained in the current group\n",
    "                return true; // If found in any group, return true\n",
    "            }\n",
    "        }\n",
    "        return false; // If not found in any group, return false\n",
    "    }\n",
    "}\n"
   ]
  }
 ],
 "metadata": {
  "kernelspec": {
   "display_name": "Java",
   "language": "java",
   "name": "java"
  },
  "language_info": {
   "codemirror_mode": "java",
   "file_extension": ".jshell",
   "mimetype": "text/x-java-source",
   "name": "Java",
   "pygments_lexer": "java",
   "version": "20.0.2+9"
  }
 },
 "nbformat": 4,
 "nbformat_minor": 2
}
