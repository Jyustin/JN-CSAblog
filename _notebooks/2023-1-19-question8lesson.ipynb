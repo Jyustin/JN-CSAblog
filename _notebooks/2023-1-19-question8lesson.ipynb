{
 "cells": [
  {
   "cell_type": "markdown",
   "metadata": {},
   "source": [
    "---\n",
    "toc: true\n",
    "comments: true\n",
    "layout: notebook\n",
    "title: APCSA mcq question 8 loops lesson\n",
    "description: learn to identify loops faster\n",
    "courses: { compsci: {week: 1} }\n",
    "type: hacks\n",
    "---"
   ]
  },
  {
   "cell_type": "markdown",
   "metadata": {},
   "source": [
    "# question \n",
    "\n",
    "![image]({{site.baseurl}}/images/question8.png)\n",
    "\n",
    "## question as code"
   ]
  },
  {
   "cell_type": "code",
   "execution_count": null,
   "metadata": {
    "vscode": {
     "languageId": "java"
    }
   },
   "outputs": [],
   "source": [
    "// reference version, does not run\n",
    "public static int[] operation(int[][] matrix, int r, int c) \n",
    "{\n",
    "    int[] result = new int[matrix.length];\n",
    "\n",
    "    for int(int j = 0; j < matrix.length; j++)\n",
    "    {\n",
    "        result[j] = matrix[r][j] * matrix[j][c];\n",
    "        return result;\n",
    "    }\n",
    "}\n",
    "int[][] mat = {\n",
    "    {3,2,1,4},\n",
    "    {1,2,3,4},\n",
    "    {2,2,1,2},\n",
    "    {1,1,1,1}\n",
    "}\n",
    "int[] arr = operation(mat, 1, 2);"
   ]
  },
  {
   "cell_type": "code",
   "execution_count": 11,
   "metadata": {
    "vscode": {
     "languageId": "java"
    }
   },
   "outputs": [
    {
     "name": "stdout",
     "output_type": "stream",
     "text": [
      "[1, 6, 3, 4]\n"
     ]
    }
   ],
   "source": [
    "// version that runs\n",
    "public class question8 {\n",
    "public static int[] operation(int[][] matrix, int r, int c) \n",
    "{\n",
    "    int[] result = new int[matrix.length];\n",
    "\n",
    "    for (int j = 0; j < matrix.length; j++)\n",
    "    {\n",
    "        result[j] = matrix[r][j] * matrix[j][c];\n",
    "    }\n",
    "    \n",
    "    return result;\n",
    "}\n",
    "\n",
    "public static void main(String[] args) {\n",
    "    int[][] mat = {\n",
    "        {3, 2, 1, 4},\n",
    "        {1, 2, 3, 4},\n",
    "        {2, 2, 1, 2},\n",
    "        {1, 1, 1, 1}\n",
    "    };\n",
    "\n",
    "    int[] arr = operation(mat, 1, 2);\n",
    "    // Print the result \n",
    "    System.out.println(Arrays.toString(arr));\n",
    "} }\n",
    "\n",
    "\n",
    "question8.main(null);\n",
    "\n",
    "\n"
   ]
  },
  {
   "cell_type": "markdown",
   "metadata": {},
   "source": [
    "Remember:\n",
    "\n",
    "Rows: Each row is a horizontal line of elements in the matrix. In the provided code, matrix.length gives the number of rows in the matrix.\n",
    "\n",
    "Columns: Each column is a vertical line of elements in the matrix. In the provided code, matrix[0].length gives the number of columns. Assuming the matrix is rectangular (all rows have the same number of columns), you can use matrix[0].length to get the number of columns in the first row.\n",
    "\n",
    "values are accessed in matrix by row and column.\n",
    "\n",
    "\n",
    "# a smart way to approach the question\n",
    "\n",
    "1. consider breaking the code into smaller segments, then understand each section first and solve\n",
    "\n",
    "for this to work efficiently, look for context clues within the code that hint at the functionality, which can lead you towards the right path \n",
    "of understanding the code segments.\n",
    "\n",
    "2. after understanding the code, trace through the example input\n",
    "\n",
    "\n",
    "## how this applies to the question\n",
    "\n",
    "1. r and c are static variables and don't change, so you can focus on how j is used in the loop\n",
    "2.  `result[j] = matrix[r][j] * matrix[j][c];` is PRODUCT of 2 values in matrix. \n",
    "3. we have 4 iterations, with each product being a value in our list\n",
    "4. the for loop iterates from the left, which we can tell by the j++ part.\n",
    "\n",
    "with this info, we can just solve the problem by tracing through the example input, without sidetracking ourselves.\n",
    "\n",
    "# answer\n",
    "\n",
    "![image]({{site.baseurl}}/images/question82.png)\n",
    "\n",
    "In the first iteration of the for loop, j is 0. The value of result[0] is assigned the product of row 1, column 0, which is 1 and row 0, column 2, which is 1. Therefore, result[0] is assigned the value 1.\n",
    "\n",
    "the second iteration of the for loop, when j is 1, result[1] is assigned the product of row 1, column 1, which is 2, and row 1, column 2, which is 3. Therefore, result[1] is assigned the value 6. \n",
    "\n",
    "\n",
    "The third iteration of the for loop, when j is 2, result[2] is assigned the product of row 1, column 2, which is 3, and row 2, column 2, which is 1. Therefore, result[2] is assigned the value 3. \n",
    "\n",
    "The final iteration of the for loop, when j is 3, result[3] is assigned the product of row 1, column 3, which is 4, and row 3, column 2, which is 1. Therefore, result[3] is assigned the value  4.\n",
    "\n",
    "# hack\n",
    "\n",
    "identify the context clues in the modified question that help you reach the answer of the output being `[2, 5, 4, 5]`"
   ]
  },
  {
   "cell_type": "code",
   "execution_count": 18,
   "metadata": {
    "vscode": {
     "languageId": "java"
    }
   },
   "outputs": [
    {
     "name": "stdout",
     "output_type": "stream",
     "text": [
      "[2, 5, 4, 5]\n"
     ]
    }
   ],
   "source": [
    "public class newquestion {\n",
    "    public static int[] operation(int[][] matrix, int r, int c) \n",
    "    {\n",
    "        int[] result = new int[matrix.length];\n",
    "    \n",
    "        for (int j = matrix.length - 1; j >= 0; j--)\n",
    "        {\n",
    "            result[j] = matrix[r][j] + matrix[j][c];\n",
    "        }\n",
    "        \n",
    "        return result;\n",
    "    }\n",
    "    \n",
    "    public static void main(String[] args) {\n",
    "        int[][] mat = {\n",
    "            {3, 2, 1, 4},\n",
    "            {1, 2, 3, 4},\n",
    "            {2, 2, 1, 2},\n",
    "            {1, 1, 1, 1}\n",
    "        };\n",
    "    \n",
    "        int[] arr = operation(mat, 1, 2);\n",
    "        // Print the result \n",
    "        System.out.println(Arrays.toString(arr));\n",
    "    } }\n",
    "    \n",
    "    \n",
    "newquestion.main(null);\n",
    "    \n",
    "    \n",
    "    "
   ]
  }
 ],
 "metadata": {
  "kernelspec": {
   "display_name": "Java",
   "language": "java",
   "name": "java"
  },
  "language_info": {
   "codemirror_mode": "java",
   "file_extension": ".jshell",
   "mimetype": "text/x-java-source",
   "name": "Java",
   "pygments_lexer": "java",
   "version": "20.0.2+9"
  }
 },
 "nbformat": 4,
 "nbformat_minor": 2
}
