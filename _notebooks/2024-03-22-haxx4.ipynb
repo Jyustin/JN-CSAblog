{
 "cells": [
  {
   "cell_type": "markdown",
   "metadata": {},
   "source": [
    "---\n",
    "toc: true\n",
    "comments: true\n",
    "layout: notebook\n",
    "title: data types hacks\n",
    "description: done\n",
    "courses: { compsci: {row: 0} }\n",
    "type: APCSA\n",
    "---"
   ]
  },
  {
   "cell_type": "markdown",
   "metadata": {},
   "source": [
    "Question 1: Primitive Types vs Reference Types (Unit 1)\n",
    "\n",
    "Answer the following questions based on the code above:\n",
    "* a) What kind of types are person1 and person2? \n",
    "* Answer: reference type\n",
    "* b) Do person1 and person3 point to the same value in memory?\n",
    "* Answer: yes\n",
    "* c) Is the integer \"number\" stored in the heap or in the stack?\n",
    "* Answer: heap\n",
    "* d) Is the value that \"person1\" points to stored in the heap or in the stack?\n",
    "* Answer: stack\n",
    "\n",
    "### Part 2\n",
    "Question 1: Primitive Types vs Reference Types (Unit 1)\n",
    "\n",
    "Situation: You are developing a banking application where you need to represent customer information. You have decided to use both primitive types and reference types for this purpose.\n",
    "\n",
    "(a) Define primitive types and reference types in Java. Provide examples of each.\n",
    "\n",
    "ANS: \n",
    "primitive types are just predefined types in java like boolean, double, int. main feature is these are built into java.\n",
    "\n",
    "(b) Explain the differences between primitive types and reference types in terms of memory allocation and usage in Java programs.\n",
    "For primitive types, memory is allocated directly to the stack, and said memor\n",
    "\n",
    "(c) Code:\n",
    "\n",
    "You have a method `calculateInterest` that takes a primitive `double` type representing the principal amount and a reference type `Customer` representing the customer information. Write the method signature and the method implementation. Include comments to explain your code."
   ]
  },
  {
   "cell_type": "code",
   "execution_count": null,
   "metadata": {},
   "outputs": [],
   "source": [
    "public class Customer {\n",
    "\n",
    "    String name; \n",
    "    // 'String' is a reference type in Java, it refers to an object that holds a sequence of characters.\n",
    "\n",
    "    int age; // Primitive type: 'int'\n",
    "\n",
    "    double money; // Primitive type: 'double'\n",
    "\n",
    "    public Customer(String name, int age, double money) {\n",
    "        this.name = name;\n",
    "        this.age = age;\n",
    "        this.money = money;\n",
    "    }\n",
    "\n",
    "    public static void calculateInterest(double money) {\n",
    "        double interest = (double) (money * 1.03); // Primitive type: 'double'\n",
    "        System.out.println(interest);\n",
    "    }\n",
    "\n",
    "    public static void main(String[] args) {\n",
    "        Customer firstPerson = new Customer(\"sam\", 25, 165.0);\n",
    "        System.out.println(firstPerson.name); // Accessing reference type 'String'\n",
    "\n",
    "        calculateInterest(firstPerson.money); // Passing primitive type 'double' as argument\n",
    "    }\n",
    "}\n",
    "\n",
    "Customer.main(null);"
   ]
  },
  {
   "cell_type": "markdown",
   "metadata": {},
   "source": [
    "\n",
    "Question 3: ArrayList (Unit 6)\n",
    "\n",
    "Situation: You are developing a student management system where you need to store and analyze the grades of students in a class.\n",
    "\n",
    "(a) Define an arrayList in Java. Explain its significance and usefulness in programming.\n",
    "\n",
    "ANS: an arraylist in java is just a mutable array, which is defined using `ArrayList<(type goes here)> name = new ArrayList<>();`. An arraylist's mutability can be more useful in situations where the amount of objects we store is changing, meaning we would want an arraylist to keep things easier. However, arraylists are pretty bad in terms of resource efficiency, so arrays are usually better.\n",
    "\n",
    "(b) Code:\n",
    "\n",
    "You need to implement a method `calculateAverageGrade` that takes an arrayList `grades` of integers representing student grades and returns the average of all the elements in the arrayList. Write the method signature and the method implementation. Include comments to explain your code."
   ]
  },
  {
   "cell_type": "code",
   "execution_count": null,
   "metadata": {},
   "outputs": [
    {
     "name": "stdout",
     "output_type": "stream",
     "text": [
      "Average Grade: 86\n",
      "Runtime: 32685 nanoseconds\n"
     ]
    }
   ],
   "source": [
    "import java.util.ArrayList;\n",
    "\n",
    "public class classGrades {\n",
    "\n",
    "    public int calculateAverageGrade(ArrayList<Integer> grades) {\n",
    "        int total = 0;\n",
    "        for (int grade : grades) {\n",
    "            total += grade;\n",
    "        }\n",
    "        return total / grades.size();\n",
    "    }\n",
    "\n",
    "    public static void main(String[] args) {\n",
    "        // Create an instance of classGrades\n",
    "        classGrades gradesCalculator = new classGrades();\n",
    "\n",
    "        // Create an ArrayList of grades\n",
    "        ArrayList<Integer> studentGrades = new ArrayList<>();\n",
    "        studentGrades.add(85);\n",
    "        studentGrades.add(90);\n",
    "        studentGrades.add(75);\n",
    "        studentGrades.add(95);\n",
    "\n",
    "        // Calculate the average grade\n",
    "        long startTime = System.nanoTime();\n",
    "        int averageGrade = gradesCalculator.calculateAverageGrade(studentGrades);\n",
    "        long endTime = System.nanoTime();\n",
    "        long duration = (endTime - startTime);  // Calculating duration in nanoseconds\n",
    "\n",
    "        // Print the result and runtime, to show the speed of arraylists. (its not that good i think)\n",
    "        System.out.println(\"Average Grade: \" + averageGrade);\n",
    "        System.out.println(\"Runtime: \" + duration + \" nanoseconds\");\n",
    "    }\n",
    "}\n",
    "\n",
    "classGrades.main(null);"
   ]
  }
 ],
 "metadata": {
  "kernelspec": {
   "display_name": "Java",
   "language": "java",
   "name": "java"
  },
  "language_info": {
   "codemirror_mode": "java",
   "file_extension": ".jshell",
   "mimetype": "text/x-java-source",
   "name": "java",
   "pygments_lexer": "java",
   "version": "20.0.2+9"
  }
 },
 "nbformat": 4,
 "nbformat_minor": 2
}
