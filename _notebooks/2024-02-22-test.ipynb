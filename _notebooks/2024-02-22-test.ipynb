{
 "cells": [
  {
   "cell_type": "code",
   "execution_count": 4,
   "metadata": {},
   "outputs": [
    {
     "name": "stdout",
     "output_type": "stream",
     "text": [
      "Total score: 21\n"
     ]
    }
   ],
   "source": [
    "public class Game {\n",
    "    public static int calculateTotalScore(int[][] scores) {\n",
    "        // Variable to store the total score\n",
    "        int totalScore = 0;\n",
    "        \n",
    "        // Loop through each row in the 2D array\n",
    "        for (int i = 0; i < scores.length; i++) {\n",
    "            // Loop through each element in the current row\n",
    "            for (int j = 0; j < scores[i].length; j++) {\n",
    "                // Add the current element to the total score\n",
    "                totalScore += scores[i][j];\n",
    "            }\n",
    "        }\n",
    "        \n",
    "        // Return the total score\n",
    "        return totalScore;\n",
    "    }\n",
    "    \n",
    "    public static void main(String[] args) {\n",
    "        // Sample runtime\n",
    "        // there should be a sample 2d array of scores here but it keeps breaking so i removed it. imagine one \n",
    "        int exampleScores[][] = {{1,2,3},{4,5,6}};\n",
    "        int totalScore = calculateTotalScore(exampleScores);\n",
    "        System.out.println(\"Total score: \" + totalScore);\n",
    "    }\n",
    "}\n",
    "\n",
    "Game.main(null);\n"
   ]
  }
 ],
 "metadata": {
  "kernelspec": {
   "display_name": "Java",
   "language": "java",
   "name": "java"
  },
  "language_info": {
   "codemirror_mode": "java",
   "file_extension": ".jshell",
   "mimetype": "text/x-java-source",
   "name": "java",
   "pygments_lexer": "java",
   "version": "20.0.2+9"
  }
 },
 "nbformat": 4,
 "nbformat_minor": 2
}
