{
 "cells": [
  {
   "cell_type": "markdown",
   "metadata": {},
   "source": [
    "---\n",
    "toc: true\n",
    "comments: true\n",
    "layout: notebook\n",
    "title: APCSA FRQ QUESTION 2\n",
    "description: java skill check\n",
    "courses: { compsci: {row: 0} }\n",
    "type: APCSA\n",
    "---"
   ]
  },
  {
   "cell_type": "markdown",
   "metadata": {},
   "source": [
    "# QUESTION 2\n",
    "\n",
    "Consider a guessing game in which a player tries to guess a hidden word. The hidden word contains only capital letters and has a length known to the player. A guess contains only capital letters and has the same length as the hidden word.\n",
    "\n",
    "After a guess is made, the player is given a hint that is based on a comparison between the hidden word and the guess. Each position in the hint contains a character that corresponds to the letter in the same position in the guess. The following rules determine the characters that appear in the hint.\n",
    "\n",
    "The HiddenWord class will be used to represent the hidden word in the game. The hidden word is passed to the constructor. The class contains a method, getHint, that takes a guess and produces a hint.\n",
    "\n",
    "For example, suppose the variable puzzle is declared as follows.\n",
    "\n",
    "HiddenWord puzzle = new HiddenWord(\"HARPS\");\n",
    "\n",
    "The following table shows several guesses and the hints that would be produced.\n",
    "\n",
    "Write the complete HiddenWord class, including any necessary instance variables, its constructor, and the method, getHint, described above. You may assume that the length of the guess is the same as the length of the hidden word.\n",
    "\n",
    "### my attempt at the problem:"
   ]
  },
  {
   "cell_type": "code",
   "execution_count": null,
   "metadata": {},
   "outputs": [],
   "source": [
    "public class HiddenWord(String puzzle) {\n",
    "    public String puzzle = \"test\";\n",
    "\n",
    "    public static String getHint(String puzzle, String guess) {\n",
    "        for (int i = 0; i < puzzle.length(); i++) {\n",
    "            if (puzzle.charAt(i) == guess.charAt(i)) {\n",
    "                return puzzle.charAt(i);\n",
    "                else {\n",
    "                    if (puzzle.contains(guess)) {\n",
    "                        return \"+\";\n",
    "                        else {\n",
    "                            return \"*\";\n",
    "                        }\n",
    "                }\n",
    "            }\n",
    "        }\n",
    "    }\n",
    "}\n",
    "}"
   ]
  },
  {
   "cell_type": "markdown",
   "metadata": {},
   "source": [
    "# actual answer compiled into running code:"
   ]
  },
  {
   "cell_type": "code",
   "execution_count": 1,
   "metadata": {},
   "outputs": [
    {
     "name": "stdout",
     "output_type": "stream",
     "text": [
      "Guess: APPLE\n",
      "Hint: +***\n",
      "Guess: JUMP\n",
      "Hint: J***\n"
     ]
    }
   ],
   "source": [
    "public class HiddenWord {\n",
    "    private String word;\n",
    "\n",
    "    // Constructor to initialize the hidden word\n",
    "    public HiddenWord(String hWord) {\n",
    "        word = hWord;\n",
    "    }\n",
    "\n",
    "    // Method to generate a hint based on the guess\n",
    "    public String getHint(String guess) {\n",
    "        String hint = \"\";\n",
    "\n",
    "        // Ensure the guess length does not exceed the hidden word length\n",
    "        int maxLength = Math.min(guess.length(), word.length());\n",
    "\n",
    "        // Loop through each character in the guess\n",
    "        for (int i = 0; i < maxLength; i++) {\n",
    "            // Check if the character in the guess matches the character in the same position in the hidden word\n",
    "            if (guess.substring(i, i + 1).equals(word.substring(i, i + 1))) {\n",
    "                hint += guess.substring(i, i + 1); // If match, append the character to hint\n",
    "            } else if (word.indexOf(guess.substring(i, i + 1)) != -1) {\n",
    "                hint += \"+\"; // If the character exists in the hidden word but not in the correct position, append '+'\n",
    "            } else {\n",
    "                hint += \"*\"; // If the character doesn't exist in the hidden word, append '*'\n",
    "            }\n",
    "        }\n",
    "\n",
    "        return hint;\n",
    "    }\n",
    "\n",
    "    public static void main(String[] args) {\n",
    "        // Example run\n",
    "        HiddenWord hiddenWord = new HiddenWord(\"JAVA\");\n",
    "        String guess1 = \"APPLE\";\n",
    "        String guess2 = \"JUMP\";\n",
    "        \n",
    "        System.out.println(\"Guess: \" + guess1);\n",
    "        System.out.println(\"Hint: \" + hiddenWord.getHint(guess1));\n",
    "        \n",
    "        System.out.println(\"Guess: \" + guess2);\n",
    "        System.out.println(\"Hint: \" + hiddenWord.getHint(guess2));\n",
    "    }\n",
    "}\n",
    "\n",
    "HiddenWord.main(null);\n"
   ]
  },
  {
   "cell_type": "markdown",
   "metadata": {},
   "source": [
    "# FRQ reflection\n",
    "\n",
    "This frq relies on analyzing strings and characters in each string, then comparing those characters in one string to another string. \n",
    "\n",
    "The frq also tests your ability to use constructors in classes and pass them to methods.\n",
    "\n",
    "Key algorithm: using .substring and if else statements to determine if character at index is present in puzzle word.\n"
   ]
  }
 ],
 "metadata": {
  "kernelspec": {
   "display_name": "Java",
   "language": "java",
   "name": "java"
  },
  "language_info": {
   "codemirror_mode": "java",
   "file_extension": ".jshell",
   "mimetype": "text/x-java-source",
   "name": "java",
   "pygments_lexer": "java",
   "version": "20.0.2+9"
  }
 },
 "nbformat": 4,
 "nbformat_minor": 2
}
